{
 "cells": [
  {
   "cell_type": "code",
   "execution_count": 1,
   "metadata": {},
   "outputs": [],
   "source": [
    "import pandas as pd\n",
    "import numpy as np"
   ]
  },
  {
   "cell_type": "code",
   "execution_count": 2,
   "metadata": {},
   "outputs": [],
   "source": [
    "compdata = pd.read_csv(\"./data/sp500_companies.csv\")\n",
    "indexdata = pd.read_csv(\"./data/sp500_index.csv\")\n",
    "stockdata = pd.read_csv(\"./data/sp500_stocks.csv\")"
   ]
  },
  {
   "cell_type": "code",
   "execution_count": 16,
   "metadata": {},
   "outputs": [
    {
     "name": "stderr",
     "output_type": "stream",
     "text": [
      "Matplotlib is building the font cache; this may take a moment.\n"
     ]
    }
   ],
   "source": [
    "import matplotlib.pyplot as plt"
   ]
  },
  {
   "cell_type": "code",
   "execution_count": 18,
   "metadata": {},
   "outputs": [
    {
     "data": {
      "text/html": [
       "<div>\n",
       "<style scoped>\n",
       "    .dataframe tbody tr th:only-of-type {\n",
       "        vertical-align: middle;\n",
       "    }\n",
       "\n",
       "    .dataframe tbody tr th {\n",
       "        vertical-align: top;\n",
       "    }\n",
       "\n",
       "    .dataframe thead th {\n",
       "        text-align: right;\n",
       "    }\n",
       "</style>\n",
       "<table border=\"1\" class=\"dataframe\">\n",
       "  <thead>\n",
       "    <tr style=\"text-align: right;\">\n",
       "      <th></th>\n",
       "      <th>Date</th>\n",
       "      <th>Symbol</th>\n",
       "      <th>Adj Close</th>\n",
       "      <th>Close</th>\n",
       "      <th>High</th>\n",
       "      <th>Low</th>\n",
       "      <th>Open</th>\n",
       "      <th>Volume</th>\n",
       "    </tr>\n",
       "  </thead>\n",
       "  <tbody>\n",
       "    <tr>\n",
       "      <th>0</th>\n",
       "      <td>2010-01-04</td>\n",
       "      <td>MMM</td>\n",
       "      <td>46.422302</td>\n",
       "      <td>69.414719</td>\n",
       "      <td>69.774246</td>\n",
       "      <td>69.122070</td>\n",
       "      <td>69.473244</td>\n",
       "      <td>3640265.0</td>\n",
       "    </tr>\n",
       "    <tr>\n",
       "      <th>1</th>\n",
       "      <td>2010-01-05</td>\n",
       "      <td>MMM</td>\n",
       "      <td>46.131523</td>\n",
       "      <td>68.979935</td>\n",
       "      <td>69.590302</td>\n",
       "      <td>68.311035</td>\n",
       "      <td>69.230766</td>\n",
       "      <td>3405012.0</td>\n",
       "    </tr>\n",
       "    <tr>\n",
       "      <th>2</th>\n",
       "      <td>2010-01-06</td>\n",
       "      <td>MMM</td>\n",
       "      <td>46.785759</td>\n",
       "      <td>69.958191</td>\n",
       "      <td>70.735786</td>\n",
       "      <td>69.824417</td>\n",
       "      <td>70.133781</td>\n",
       "      <td>6301126.0</td>\n",
       "    </tr>\n",
       "    <tr>\n",
       "      <th>3</th>\n",
       "      <td>2010-01-07</td>\n",
       "      <td>MMM</td>\n",
       "      <td>46.819294</td>\n",
       "      <td>70.008362</td>\n",
       "      <td>70.033447</td>\n",
       "      <td>68.662209</td>\n",
       "      <td>69.665550</td>\n",
       "      <td>5346240.0</td>\n",
       "    </tr>\n",
       "    <tr>\n",
       "      <th>4</th>\n",
       "      <td>2010-01-08</td>\n",
       "      <td>MMM</td>\n",
       "      <td>47.149204</td>\n",
       "      <td>70.501671</td>\n",
       "      <td>70.501671</td>\n",
       "      <td>69.648827</td>\n",
       "      <td>69.974915</td>\n",
       "      <td>4073337.0</td>\n",
       "    </tr>\n",
       "    <tr>\n",
       "      <th>...</th>\n",
       "      <td>...</td>\n",
       "      <td>...</td>\n",
       "      <td>...</td>\n",
       "      <td>...</td>\n",
       "      <td>...</td>\n",
       "      <td>...</td>\n",
       "      <td>...</td>\n",
       "      <td>...</td>\n",
       "    </tr>\n",
       "    <tr>\n",
       "      <th>1878700</th>\n",
       "      <td>2024-10-29</td>\n",
       "      <td>ZTS</td>\n",
       "      <td>180.841476</td>\n",
       "      <td>181.270004</td>\n",
       "      <td>184.410004</td>\n",
       "      <td>181.039993</td>\n",
       "      <td>182.009995</td>\n",
       "      <td>1696000.0</td>\n",
       "    </tr>\n",
       "    <tr>\n",
       "      <th>1878701</th>\n",
       "      <td>2024-10-30</td>\n",
       "      <td>ZTS</td>\n",
       "      <td>182.307999</td>\n",
       "      <td>182.740005</td>\n",
       "      <td>183.809998</td>\n",
       "      <td>179.800003</td>\n",
       "      <td>179.919998</td>\n",
       "      <td>1957800.0</td>\n",
       "    </tr>\n",
       "    <tr>\n",
       "      <th>1878702</th>\n",
       "      <td>2024-10-31</td>\n",
       "      <td>ZTS</td>\n",
       "      <td>178.779999</td>\n",
       "      <td>178.779999</td>\n",
       "      <td>181.580002</td>\n",
       "      <td>178.740005</td>\n",
       "      <td>180.220001</td>\n",
       "      <td>2120000.0</td>\n",
       "    </tr>\n",
       "    <tr>\n",
       "      <th>1878703</th>\n",
       "      <td>2024-11-01</td>\n",
       "      <td>ZTS</td>\n",
       "      <td>181.949997</td>\n",
       "      <td>181.949997</td>\n",
       "      <td>183.110001</td>\n",
       "      <td>179.199997</td>\n",
       "      <td>179.979996</td>\n",
       "      <td>2838600.0</td>\n",
       "    </tr>\n",
       "    <tr>\n",
       "      <th>1878704</th>\n",
       "      <td>2024-11-04</td>\n",
       "      <td>ZTS</td>\n",
       "      <td>175.179993</td>\n",
       "      <td>175.179993</td>\n",
       "      <td>179.174500</td>\n",
       "      <td>173.589996</td>\n",
       "      <td>176.634995</td>\n",
       "      <td>4163830.0</td>\n",
       "    </tr>\n",
       "  </tbody>\n",
       "</table>\n",
       "<p>1878705 rows × 8 columns</p>\n",
       "</div>"
      ],
      "text/plain": [
       "               Date Symbol   Adj Close       Close        High         Low  \\\n",
       "0        2010-01-04    MMM   46.422302   69.414719   69.774246   69.122070   \n",
       "1        2010-01-05    MMM   46.131523   68.979935   69.590302   68.311035   \n",
       "2        2010-01-06    MMM   46.785759   69.958191   70.735786   69.824417   \n",
       "3        2010-01-07    MMM   46.819294   70.008362   70.033447   68.662209   \n",
       "4        2010-01-08    MMM   47.149204   70.501671   70.501671   69.648827   \n",
       "...             ...    ...         ...         ...         ...         ...   \n",
       "1878700  2024-10-29    ZTS  180.841476  181.270004  184.410004  181.039993   \n",
       "1878701  2024-10-30    ZTS  182.307999  182.740005  183.809998  179.800003   \n",
       "1878702  2024-10-31    ZTS  178.779999  178.779999  181.580002  178.740005   \n",
       "1878703  2024-11-01    ZTS  181.949997  181.949997  183.110001  179.199997   \n",
       "1878704  2024-11-04    ZTS  175.179993  175.179993  179.174500  173.589996   \n",
       "\n",
       "               Open     Volume  \n",
       "0         69.473244  3640265.0  \n",
       "1         69.230766  3405012.0  \n",
       "2         70.133781  6301126.0  \n",
       "3         69.665550  5346240.0  \n",
       "4         69.974915  4073337.0  \n",
       "...             ...        ...  \n",
       "1878700  182.009995  1696000.0  \n",
       "1878701  179.919998  1957800.0  \n",
       "1878702  180.220001  2120000.0  \n",
       "1878703  179.979996  2838600.0  \n",
       "1878704  176.634995  4163830.0  \n",
       "\n",
       "[1878705 rows x 8 columns]"
      ]
     },
     "execution_count": 18,
     "metadata": {},
     "output_type": "execute_result"
    }
   ],
   "source": [
    "stockdata"
   ]
  },
  {
   "cell_type": "code",
   "execution_count": 23,
   "metadata": {},
   "outputs": [
    {
     "data": {
      "text/plain": [
       "<Axes: xlabel='Date'>"
      ]
     },
     "execution_count": 23,
     "metadata": {},
     "output_type": "execute_result"
    },
    {
     "data": {
      "image/png": "[encoded data removed]",
      "text/plain": [
       "<Figure size 640x480 with 1 Axes>"
      ]
     },
     "metadata": {},
     "output_type": "display_data"
    }
   ],
   "source": [
    "stockdata.loc[stockdata.Symbol==\"MMM\"].plot(x=\"Date\")"
   ]
  },
  {
   "cell_type": "code",
   "execution_count": 14,
   "metadata": {},
   "outputs": [
    {
     "data": {
      "text/plain": [
       "503"
      ]
     },
     "execution_count": 14,
     "metadata": {},
     "output_type": "execute_result"
    }
   ],
   "source": [
    "# function to plot: day, 5 days, 30 days\n",
    "def plot_stock_graph():\n",
    "    \n",
    "    return 0"
   ]
  }
 ],
 "metadata": {
  "kernelspec": {
   "display_name": "quant",
   "language": "python",
   "name": "python3"
  },
  "language_info": {
   "codemirror_mode": {
    "name": "ipython",
    "version": 3
   },
   "file_extension": ".py",
   "mimetype": "text/x-python",
   "name": "python",
   "nbconvert_exporter": "python",
   "pygments_lexer": "ipython3",
   "version": "3.12.7"
  }
 },
 "nbformat": 4,
 "nbformat_minor": 2
}
